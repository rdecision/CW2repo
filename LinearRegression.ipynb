{
 "cells": [
  {
   "cell_type": "markdown",
   "id": "493b2781-5360-4b06-89f1-deec3bc21f39",
   "metadata": {},
   "source": [
    "# Linear Regression"
   ]
  },
  {
   "cell_type": "markdown",
   "id": "c84ab6c8-a99e-4e5a-bae8-4c6a179a8d03",
   "metadata": {},
   "source": [
    "The aim of this tutorial is to develop a model of linear regression. This is a fundamental algorithm in machine learning, and one that we will build upon later on in this course."
   ]
  },
  {
   "cell_type": "markdown",
   "id": "3b32b16a-c690-41b4-88fc-d34819e8267c",
   "metadata": {},
   "source": [
    "### Introduction\n",
    "\n",
    "Say we have a collection of labelled examples $\\{(\\mathbf{x}_i, y_i)\\}_{i=1}^N$, where $N$ is the size of the dataset, $\\mathbf{x}_i$ is the feature vector of sample $i$ and $y_i$ is the label of sample $i$. Linear regression aims to fit a hyperplane to the data. A hyperplane is a generalisation of a plane in high dimensions. It is impossible to visualise a hyperplane, but the maths works just fine, so bear with me!"
   ]
  },
  {
   "cell_type": "markdown",
   "id": "8c5e9eb1-ba0b-452f-8726-d01ddddef9ad",
   "metadata": {},
   "source": [
    "Based on this description, is linear regression a form of supervised learning, or unsupervised learning? Run the cell below to answer:\n",
    "<span style=\"display:none\" id=\"q1\">W3sicXVlc3Rpb24iOiAiTGluZWFyIHJlZ3Jlc3Npb24gaXMgYSB0eXBlIG9mOiIsICJ0eXBlIjogIm11bHRpcGxlX2Nob2ljZSIsICJhbnN3ZXJzIjogW3siYW5zd2VyIjogIlN1cGVydmlzZWQgbGVhcm5pbmcuIiwgImNvcnJlY3QiOiB0cnVlLCAiZmVlZGJhY2siOiAiVGhhdCdzIHJpZ2h0LiBCZWNhdXNlIHRoZSBleGFtcGxlcyBhcmUgbGFiZWxsZWQsIHRoaXMgaXMgc3VwZXJ2aXNlZCBsZWFybmluZy4ifSwgeyJhbnN3ZXIiOiAiVW5zdXBlcnZpc2VkIGxlYXJuaW5nIiwgImNvcnJlY3QiOiBmYWxzZSwgImZlZWRiYWNrIjogIk5vLiBCZWNhdXNlIHRoZSBleGFtcGxlcyBhcmUgbGFiZWxsZWQsIHRoaXMgY2Fubm90IGJlIHVuc3VwZXJ2aXNlZCBsZWFybmluZy4ifV19XQ==</span> "
   ]
  },
  {
   "cell_type": "markdown",
   "id": "06c176bd-0f42-459d-94f6-0a63cbedec67",
   "metadata": {},
   "source": [
    "Let us define the length of the feature vector, $\\mathbf{x}_i$ (for all $i$) as $D$. If $D=1$, the model will fit a line to the data (a line of best fit). If $D=2$, the model will aim to fit a plane to the data. For $D>2$, it'll be a hyperplane that is fit to the data. \n",
    "\n",
    "In general terms, the model has the following form:\n",
    "\n",
    "$$f_{\\mathbf{w},b} = \\mathbf{w} \\mathbf{x} + b$$\n",
    "\n",
    "Once the model is trained (that is appropriate values of $\\mathbf{w}$ and $b$ have been found), it can be used for predictions at new values of $\\mathbf{x}$. "
   ]
  },
  {
   "cell_type": "markdown",
   "id": "f3029524-b944-442f-b3a8-b0c7a76d4f2b",
   "metadata": {},
   "source": [
    "### Engineering example\n",
    "\n",
    "To provide a concrete engineering example, we will consider the heat transfer through a single-glazed window. A window manufacturer may be interested in training a model that can predict the rate of heat transfer, $\\dot{Q}$, for a given glass thickness, $L$, window area, $A$, and a given temperature difference across the glass, $\\Delta T$, (the difference between the inside and outside temperature). "
   ]
  },
  {
   "cell_type": "markdown",
   "id": "d2de5c42-4359-4e08-b86e-814c5a49ab21",
   "metadata": {},
   "source": [
    "In this problem, which variables are features, and which is the label? Run the cell below to answer:\n",
    "\n",
    "<span style=\"display:none\" id=\"q2\">W3sicXVlc3Rpb24iOiAiV2hpY2ggb2YgdGhlIGZvbGxvd2luZyBhcmUgZmVhdHVyZXM6IiwgInR5cGUiOiAibWFueV9jaG9pY2UiLCAiYW5zd2VycyI6IFt7ImFuc3dlciI6ICJUaGUgdGhpY2tuZXNzIG9mIHRoZSBnbGFzcywgJEwkLiIsICJjb3JyZWN0IjogdHJ1ZX0sIHsiYW5zd2VyIjogIlRoZSB0ZW1wZXJhdHVyZSBkaWZmZXJlbmNlICRcXERlbHRhIFQkLiIsICJjb3JyZWN0IjogdHJ1ZX0sIHsiYW5zd2VyIjogIlRoZSB3aW5kb3cgYXJlYSwgJEEkLiIsICJjb3JyZWN0IjogdHJ1ZX0sIHsiYW5zd2VyIjogIlRoZSByYXRlIG9mIGhlYXQgdHJhbnNmZXIsICRcXGRvdHtRfSQuIiwgImNvcnJlY3QiOiBmYWxzZSwgImZlZWRiYWNrIjogIk5vLiBUaGlzIGlzIHRoZSBsYWJlbCJ9XX1d</span> "
   ]
  },
  {
   "cell_type": "markdown",
   "id": "8625e7e1-54c7-4751-95de-89464631cc3c",
   "metadata": {},
   "source": [
    "You may notice the features are the _independent_ variables of the problem, and the label is the _dependent_ variable. Features and labels is the terminology commonly used in machine learning, but there is no appreciable difference between features and independent variables, or between labels and dependent variables. "
   ]
  },
  {
   "cell_type": "markdown",
   "id": "d479fa2e-f82c-4763-8673-8cbc1e4ccbeb",
   "metadata": {},
   "source": [
    "To keep the analysis simple, let's  consider the case where the window thickness and Area are fixed. The manufacturer is now interested in a model that can predict the rate of heat loss for a given temperature difference. Because $A$ and $L$ are fixed, this model will only work for the specific window dimension that the model is trained for. "
   ]
  },
  {
   "cell_type": "markdown",
   "id": "56dde9b0-23cd-4bfc-ace6-668098ad0df5",
   "metadata": {},
   "source": [
    "We have some data in the file \"window_heat.csv\". You can see this file in the file explorer (usually to the left). We can also load it in to this notebook by running the cell below:"
   ]
  },
  {
   "cell_type": "code",
   "execution_count": 1,
   "id": "37ed6172-cc25-47df-91bd-ee8ece8adae7",
   "metadata": {},
   "outputs": [
    {
     "ename": "ModuleNotFoundError",
     "evalue": "No module named 'pandas'",
     "output_type": "error",
     "traceback": [
      "\u001b[1;31m---------------------------------------------------------------------------\u001b[0m",
      "\u001b[1;31mModuleNotFoundError\u001b[0m                       Traceback (most recent call last)",
      "Cell \u001b[1;32mIn[1], line 1\u001b[0m\n\u001b[1;32m----> 1\u001b[0m \u001b[38;5;28;01mimport\u001b[39;00m \u001b[38;5;21;01mpandas\u001b[39;00m \u001b[38;5;28;01mas\u001b[39;00m \u001b[38;5;21;01mpd\u001b[39;00m                 \u001b[38;5;66;03m#Pandas is a library in Python we can use for loading csv files (amongst other things)\u001b[39;00m\n\u001b[0;32m      2\u001b[0m df \u001b[38;5;241m=\u001b[39m pd\u001b[38;5;241m.\u001b[39mread_csv(\u001b[38;5;124m'\u001b[39m\u001b[38;5;124mwindow_heat.csv\u001b[39m\u001b[38;5;124m'\u001b[39m) \u001b[38;5;66;03m#here, we load the csv file into a Pandas dataframe object called 'df'\u001b[39;00m\n\u001b[0;32m      3\u001b[0m df                                  \u001b[38;5;66;03m#this line causes the notebook to print out the dataframe so we can see its contents below:\u001b[39;00m\n",
      "\u001b[1;31mModuleNotFoundError\u001b[0m: No module named 'pandas'"
     ]
    }
   ],
   "source": [
    "import pandas as pd                 #Pandas is a library in Python we can use for loading csv files (amongst other things)\n",
    "df = pd.read_csv('window_heat.csv') #here, we load the csv file into a Pandas dataframe object called 'df'\n",
    "df                                  #this line causes the notebook to print out the dataframe so we can see its contents below:"
   ]
  },
  {
   "cell_type": "markdown",
   "id": "70aeea73-0bb5-4b4d-8635-72415e739d27",
   "metadata": {},
   "source": [
    "The dataframe contains a column of temperature differences and the corresponding measured rate of heat transfer through the window. \n",
    "Try answering the following:\n",
    "\n",
    "<span style=\"display:none\" id=\"q3\">W3sicXVlc3Rpb24iOiAiSW4gdGhpcyBleGFtcGxlLCB3aGljaCBvZiB0aGUgZm9sbG93aW5nIGFyZSB0cnVlOiIsICJ0eXBlIjogIm1hbnlfY2hvaWNlIiwgImFuc3dlcnMiOiBbeyJhbnN3ZXIiOiAiRD0xLiIsICJjb3JyZWN0IjogdHJ1ZSwgImZlZWRiYWNrIjogIlRoYXQncyByaWdodC4ifSwgeyJhbnN3ZXIiOiAiRD0yLiIsICJjb3JyZWN0IjogZmFsc2UsICJmZWVkYmFjayI6ICJObywgdGhlIGxlbmd0aCBvZiB0aGUgZmVhdHVyZSB2ZWN0b3IgaXMgMSAodGhlIHRlbXBlcmF0dXJlIGRpZmZlcmVuY2UgaXMgdGhlIG9ubHkgZmVhdHVyZSkuICRcXGRvdHtRfSQgaXMgdGhlIGxhYmVsLiJ9LCB7ImFuc3dlciI6ICJOPTEiLCAiY29ycmVjdCI6IGZhbHNlLCAiZmVlZGJhY2siOiAiTm8uIFRoZSBudW1iZXIgb2YgZGF0YSBzYW1wbGVzIGlzIGdyZWF0ZXIgdGhhbiBvbmUuIn0sIHsiYW5zd2VyIjogIk49MjQiLCAiY29ycmVjdCI6IHRydWUsICJmZWVkYmFjayI6ICJZdXAsIHRoZXJlIGFyZSAyNCBkYXRhIHNhbXBsZXMgb3Igb2JzZXJ2YXRpb25zLiJ9LCB7ImFuc3dlciI6ICJOPTIzIiwgImNvcnJlY3QiOiBmYWxzZSwgImZlZWRiYWNrIjogIk5vdCBxdWl0ZSwgdGhlcmUgYXJlIDI0IGRhdGEgc2FtcGxlcyBvciBvYnNlcnZhdGlvbnMgYmVjYXVzZSB0aGUgbGlzdCBzdGFydHMgZnJvbSAwLiJ9XX1d</span> "
   ]
  },
  {
   "cell_type": "markdown",
   "id": "238493b8-777d-4bf0-b6f9-be2f7a528862",
   "metadata": {},
   "source": [
    " We can plot the data as follows:"
   ]
  },
  {
   "cell_type": "code",
   "execution_count": null,
   "id": "c5d0f5e1-e11f-4a4e-8917-c2608961aa25",
   "metadata": {},
   "outputs": [
    {
     "data": {
      "text/plain": [
       "<Axes: xlabel='dT[C]', ylabel='Qdot[W]'>"
      ]
     },
     "execution_count": 20,
     "metadata": {},
     "output_type": "execute_result"
    },
    {
     "data": {
      "image/png": "[encoded data removed]",
      "text/plain": [
       "<Figure size 640x480 with 1 Axes>"
      ]
     },
     "metadata": {},
     "output_type": "display_data"
    }
   ],
   "source": [
    "import matplotlib.pyplot as plt         #matplotlib is a plotting library in Python\n",
    "df.plot.scatter(x='dT[C]', y='Qdot[W]')       #We plot the dataframe as a scatter plot to visualise the output"
   ]
  },
  {
   "cell_type": "markdown",
   "id": "d1bc56cf-0f9f-4534-ada6-6451e6773066",
   "metadata": {},
   "source": [
    "As expected, the rate of heat loss in Watts is higher if the temperature difference between the inside and outside is greater. We can visually see the relationship is broadly a linear one. Our aim here is to fit a line to this data through linear regression.\n",
    "\n",
    "First, we can get the raw data in numpy arrays to allow simple manipulation later on:"
   ]
  },
  {
   "cell_type": "code",
   "execution_count": null,
   "id": "a3d3e848-00f3-4714-bb20-5eeacfcd85da",
   "metadata": {},
   "outputs": [
    {
     "name": "stdout",
     "output_type": "stream",
     "text": [
      "Temperature Numpy array: \n",
      " [21.17868122 14.29148669  4.46163576 12.11156896 10.51068853  1.83942596\n",
      " 16.14263216 11.02058403 11.54309387 13.21557996 18.58510411 17.861556\n",
      "  1.05453528  9.14420922 12.50187809 17.76101113 16.66914553 19.9557194\n",
      "  5.6085215   7.82093256 19.49508479 20.19636593 21.93011502  2.72067367]\n",
      "Rate of heat loss Numpy array: \n",
      " [11401.18449    7685.34074    2008.096958   5101.150536   6033.044369\n",
      "   856.0505567  9138.223754   4443.590602   6001.52704    6724.371213\n",
      "  8950.102746   8210.753416    482.653133   4017.065937   5475.235098\n",
      "  9598.267822   9157.500008  11507.78876    3167.120891   4456.856096\n",
      "  8189.344738   9574.5468     9880.9984     1498.245219 ]\n"
     ]
    }
   ],
   "source": [
    "dT   = df['dT[C]'].to_numpy()\n",
    "Qdot = df['Qdot[W]'].to_numpy()\n",
    "\n",
    "print(\"Temperature Numpy array: \\n\", dT)\n",
    "print(\"Rate of heat loss Numpy array: \\n\", Qdot)"
   ]
  },
  {
   "cell_type": "markdown",
   "id": "1d0ed409-fbb8-43be-b3f6-21aca5f9e983",
   "metadata": {},
   "source": [
    "#### Loss Function\n",
    "\n",
    "In linear regression, we are trying to find the values of $w$ and $b$ that fit the data as best we can. To this end, we need a way of assessing how far the current values are.\n",
    "\n",
    "Our model (for D=1) has the form $f=wx+b$. We do not know what the optimal values for $w$ or $b$. For each data point, we can measure the mean of the square of the difference between the model's prediction $wx+b$ and the label:\n",
    "\n",
    "$$\\frac{1}{N} \\sum_{i=1}^N(y_i - (wx_i+b))^2$$\n",
    "\n",
    "If this is small, then the model is working well; conversely, if this is large, the model's prediction will be far from the labelled values at the known data points. We call this a loss function<a name=\"cite_ref-1\"></a>[<sup>[1]</sup>](#cite_note-1). We want to make the loss function as small as we can.\n",
    "\n",
    "Let's denote the loss function as $l$:\n",
    "\n",
    "$$l \\equiv \\frac{1}{N} \\sum_{i=1}^N(y_i - (wx_i+b))^2$$"
   ]
  },
  {
   "cell_type": "markdown",
   "id": "6d3cf5eb-ca2e-4d63-b869-da1a8fd3e044",
   "metadata": {},
   "source": [
    "#### Gradient descent\n",
    "We are interested in finding the values of $w$ and $b$ that minimise $l$. We can find the partial derivatives of the loss function with respect to the parameters $w$ and $b$. This will tell us how we might expect $l$ to change with a change in $w$ or $b$.\n",
    "\n",
    "$$\\frac{\\partial l}{\\partial w} = \\frac{1}{N} \\sum_{i=1}^N -2x_i(y_i - (wx_i+b))$$\n",
    "$$\\frac{\\partial l}{\\partial b} = \\frac{1}{N} \\sum_{i=1}^N -2(y_i - (wx_i+b))$$"
   ]
  },
  {
   "cell_type": "markdown",
   "id": "d094052e-5e55-454f-90f4-115c16f3e68c",
   "metadata": {},
   "source": [
    "With these partial derivatives, we can update $w$ and $b$ to drive down the loss: \n",
    "\n",
    "$$w \\leftarrow w - \\alpha \\frac{\\partial l}{\\partial w}$$\n",
    "$$b \\leftarrow b - \\alpha \\frac{\\partial l}{\\partial b}$$\n",
    "\n",
    "where $\\alpha$ is the learning rate, and controls how quick the update is applied. Our updates for $w$ and $b$ can be implemented as follows:"
   ]
  },
  {
   "cell_type": "code",
   "execution_count": null,
   "id": "6838ad9d-6d02-4f57-a650-0d318a9a657c",
   "metadata": {},
   "outputs": [],
   "source": [
    "def update_wb( x, y, w, b, alpha ):\n",
    "    \"\"\"\n",
    "    Updates w and b in an attempt to reduce loss.\n",
    "\n",
    "    x: feature (in this case, x=dT, the temperature difference). \n",
    "    y: label (in this case, Qdot).\n",
    "    w: The current value of w before its update. \n",
    "    b: The current value of b before its update.\n",
    "    alpha: the learning rate.|\n",
    "    \"\"\"\n",
    "    dl_dw = 0.0                                #initialse to zero\n",
    "    dl_db = 0.0                                #initialse to zero\n",
    "\n",
    "    #find the partial derivatives:\n",
    "    for i in range(len(x)):                   #loop from i=0 to 23.\n",
    "        dl_dw += -2.0*x[i]*(y[i]-(w*x[i]+b))\n",
    "        dl_db += -2.0*(y[i]-(w*x[i]+b))\n",
    "\n",
    "    dl_dw = dl_dw/float(len(x))\n",
    "    dl_db = dl_db/float(len(x))\n",
    "\n",
    "    w = w - alpha*dl_dw\n",
    "    b = b - alpha*dl_db\n",
    "\n",
    "    return w, b"
   ]
  },
  {
   "cell_type": "markdown",
   "id": "a1aa60f6-86c8-4aa8-b4b7-70e420d5e666",
   "metadata": {},
   "source": [
    "We also need a way of evaluating the loss (or cost), $l$, for a given value of $w$ and $b$, as per the following function:"
   ]
  },
  {
   "cell_type": "code",
   "execution_count": null,
   "id": "29cd6aa6-2135-4e81-a72b-adcc93973dbf",
   "metadata": {
    "editable": true,
    "slideshow": {
     "slide_type": ""
    },
    "tags": []
   },
   "outputs": [],
   "source": [
    "def loss(x, y, w, b):\n",
    "    l=0.0\n",
    "    \n",
    "    for i in range(len(x)):\n",
    "        l += (y[i] - (w*x[i]+b))**2\n",
    "\n",
    "    l = l/float(len(x))\n",
    "\n",
    "    return l"
   ]
  },
  {
   "cell_type": "markdown",
   "id": "4314ced7-ce59-4034-96db-34280e922f75",
   "metadata": {},
   "source": [
    "With the two functions above defined, we can start to train our model. We can start with a guess of $w=0$ and $b=0$. These are the parameters of our model. We also need to choose a value of $\\alpha$. For now, let's go for $\\alpha=0.0001$ (more on this later). We will keep count of how many times the full dataset has been seen by the algorithm using the `epoch` integer.\n",
    "\n",
    "<a id='training_cell'></a>"
   ]
  },
  {
   "cell_type": "code",
   "execution_count": null,
   "id": "4f97c53e-4bc7-4679-87b1-db40cf211f7b",
   "metadata": {},
   "outputs": [
    {
     "name": "stdout",
     "output_type": "stream",
     "text": [
      "Epoch:  1 w:  20.329343396551536 b:  1.279658827689167 loss:  47248960.614890605\n"
     ]
    }
   ],
   "source": [
    "w=0.0\n",
    "b=0.0\n",
    "alpha=0.0001\n",
    "\n",
    "epoch = 0\n",
    "\n",
    "w, b = update_wb(dT, Qdot, w, b, alpha)\n",
    "epoch += 1\n",
    "print(\"Epoch: \", epoch, \"w: \", w, \"b: \", b, \"loss: \", loss(dT, Qdot, w, b))\n",
    "        "
   ]
  },
  {
   "cell_type": "markdown",
   "id": "c23cc4d8-a95d-4560-bdc3-07b2982535fb",
   "metadata": {},
   "source": [
    "OK, let's look at the results:"
   ]
  },
  {
   "cell_type": "code",
   "execution_count": null,
   "id": "7c408f2f-ea69-4737-9948-b8e31a4f1b1c",
   "metadata": {},
   "outputs": [
    {
     "data": {
      "text/plain": [
       "[<matplotlib.lines.Line2D at 0x1f20c337ef0>]"
      ]
     },
     "execution_count": 32,
     "metadata": {},
     "output_type": "execute_result"
    },
    {
     "data": {
      "image/png": "[encoded data removed]",
      "text/plain": [
       "<Figure size 640x480 with 1 Axes>"
      ]
     },
     "metadata": {},
     "output_type": "display_data"
    }
   ],
   "source": [
    "plt.plot(dT, Qdot, marker = 'o', ls='')\n",
    "plt.plot([0,25],[b,w*25+b])"
   ]
  },
  {
   "cell_type": "markdown",
   "id": "68775b32-5f60-41bd-abb8-a3bf11e100fe",
   "metadata": {},
   "source": [
    "Pretty terrible! We should try more epochs:"
   ]
  },
  {
   "cell_type": "code",
   "execution_count": null,
   "id": "181c5ef2-2dbd-44f5-8b80-4fa61d0742dd",
   "metadata": {},
   "outputs": [
    {
     "name": "stdout",
     "output_type": "stream",
     "text": [
      "Epoch:  2 w:  39.82714023870224 b:  2.5069474129597538 loss:  43510316.33929932\n",
      "Epoch:  3 w:  58.52740397616789 b:  3.6840079010418068 loss:  40071266.684091516\n",
      "Epoch:  4 w:  76.46275677785417 b:  4.812894815192968 loss:  36907803.76564584\n",
      "Epoch:  5 w:  93.66448644058863 b:  5.895578640773889 loss:  33997843.56157469\n",
      "Epoch:  6 w:  110.16260097006685 b:  6.933949262721177 loss:  31321071.742947187\n"
     ]
    },
    {
     "data": {
      "text/plain": [
       "[<matplotlib.lines.Line2D at 0x1f20cb075f0>]"
      ]
     },
     "execution_count": 34,
     "metadata": {},
     "output_type": "execute_result"
    },
    {
     "data": {
      "image/png": "[encoded data removed]",
      "text/plain": [
       "<Figure size 640x480 with 1 Axes>"
      ]
     },
     "metadata": {},
     "output_type": "display_data"
    }
   ],
   "source": [
    "for i in range(5): #lets try 5 more\n",
    "    w, b = update_wb(dT, Qdot, w, b, alpha)\n",
    "    epoch += 1\n",
    "    print(\"Epoch: \", epoch, \"w: \", w, \"b: \", b, \"loss: \", loss(dT, Qdot, w, b))\n",
    "\n",
    "plt.plot(dT, Qdot, marker = 'o', ls='')\n",
    "plt.plot([0,25],[b,w*25+b])"
   ]
  },
  {
   "cell_type": "markdown",
   "id": "a6a856e5-485a-4b3b-8813-64f80d859864",
   "metadata": {},
   "source": [
    "Better, but still a way to go!"
   ]
  },
  {
   "cell_type": "code",
   "execution_count": null,
   "id": "97dfaaab-369a-4ab4-8804-bc4b726f048e",
   "metadata": {},
   "outputs": [
    {
     "name": "stdout",
     "output_type": "stream",
     "text": [
      "Epoch:  7 w:  125.98588092922799 b:  7.9298192624145 loss:  28858801.860679533\n",
      "Epoch:  8 w:  141.16192964538078 b:  8.884927079689144 loss:  26593844.89609684\n",
      "Epoch:  9 w:  155.717221363665 b:  9.800940045510114 loss:  24510389.265003424\n",
      "Epoch:  10 w:  169.67714743085136 b:  10.679457290598204 loss:  22593890.437574502\n",
      "Epoch:  11 w:  183.06606059004642 b:  11.52201253508209 loss:  20830969.403509296\n",
      "Epoch:  12 w:  195.90731746357392 b:  12.33007676404292 loss:  19209319.27363481\n",
      "Epoch:  13 w:  208.22331929814308 b:  13.105060793618852 loss:  17717619.36594898\n",
      "Epoch:  14 w:  220.03555104338267 b:  13.84831773214607 loss:  16345456.176341258\n",
      "Epoch:  15 w:  231.3646188319131 b:  14.561145340629647 loss:  15083250.682289757\n",
      "Epoch:  16 w:  242.23028592633943 b:  15.244788296662097 loss:  13922191.47204484\n",
      "Epoch:  17 w:  252.6515071958742 b:  15.900440365738959 loss:  12854173.232476236\n",
      "Epoch:  18 w:  262.6464621827339 b:  16.529246483759213 loss:  11871740.166169597\n",
      "Epoch:  19 w:  272.2325868159928 b:  17.13230475434344 loss:  10968033.94276924\n",
      "Epoch:  20 w:  281.4266038282183 b:  17.71066836445399 loss:  10136745.821217189\n",
      "Epoch:  21 w:  290.2445519279486 b:  18.265347421658927 loss:  9372072.608655646\n",
      "Epoch:  22 w:  298.7018137789048 b:  18.797310716244798 loss:  8668676.148543488\n",
      "Epoch:  23 w:  306.8131428347447 b:  19.30748741125225 loss:  8021646.055174847\n",
      "Epoch:  24 w:  314.5926890761728 b:  19.796768663382668 loss:  7426465.434450627\n",
      "Epoch:  25 w:  322.05402369530304 b:  20.266009177603518 loss:  6878979.351601058\n",
      "Epoch:  26 w:  329.21016277033664 b:  20.716028698164347 loss:  6375365.825733449\n",
      "Epoch:  27 w:  336.07358997185446 b:  21.147613438624507 loss:  5912109.148719135\n",
      "Epoch:  28 w:  342.6562783403348 b:  21.561517453387246 loss:  5485975.342159757\n",
      "Epoch:  29 w:  348.9697111728869 b:  21.958463953132775 loss:  5093989.581098759\n",
      "Epoch:  30 w:  355.02490205563686 b:  22.339146566445088 loss:  4733415.4268739205\n",
      "Epoch:  31 w:  360.83241407671215 b:  22.70423054983337 loss:  4401735.724136094\n",
      "Epoch:  32 w:  366.4023782533409 b:  23.054353948258903 loss:  4096635.0286770095\n",
      "Epoch:  33 w:  371.7445112052122 b:  23.390128708191952 loss:  3815983.443395399\n",
      "Epoch:  34 w:  376.868132104928 b:  23.71214174514034 loss:  3557821.74956088\n",
      "Epoch:  35 w:  381.7821789351165 b:  24.020955967512013 loss:  3320347.729577485\n",
      "Epoch:  36 w:  386.4952240805669 b:  24.31711125859768 loss:  3101903.5857665795\n",
      "Epoch:  37 w:  391.0154892825861 b:  24.601125418386612 loss:  2900964.3673400427\n",
      "Epoch:  38 w:  395.35085998166466 b:  24.873495066858514 loss:  2716127.3247729256\n",
      "Epoch:  39 w:  399.50889907347266 b:  25.134696510327327 loss:  2546102.117258773\n",
      "Epoch:  40 w:  403.49686010218244 b:  25.385186572348236 loss:  2389701.8048862256\n",
      "Epoch:  41 w:  407.3216999141336 b:  25.625403390637352 loss:  2245834.562653598\n",
      "Epoch:  42 w:  410.9900907939147 b:  25.855767181394363 loss:  2113496.05847728\n",
      "Epoch:  43 w:  414.50843210403247 b:  26.076680972361416 loss:  1991762.4419850751\n",
      "Epoch:  44 w:  417.88286144847376 b:  26.288531305897095 loss:  1879783.8951495334\n",
      "Epoch:  45 w:  421.119265379635 b:  26.49168891329196 loss:  1776778.6997384431\n",
      "Epoch:  46 w:  424.2232896672972 b:  26.686509361501994 loss:  1682027.7801675731\n",
      "Epoch:  47 w:  427.20034914755996 b:  26.873333673428164 loss:  1594869.6836595398\n",
      "Epoch:  48 w:  430.0556371689168 b:  27.052488922824168 loss:  1514695.962665425\n",
      "Epoch:  49 w:  432.7941346519494 b:  27.22428880487016 loss:  1440946.927314018\n",
      "Epoch:  50 w:  435.4206187784454 b:  27.38903418340783 loss:  1373107.7382366804\n",
      "Epoch:  51 w:  437.93967132509835 b:  27.547013615791457 loss:  1310704.812491975\n",
      "Epoch:  52 w:  440.3556866563268 b:  27.698503856270534 loss:  1253302.5174999528\n",
      "Epoch:  53 w:  442.67287939015654 b:  27.84377033878212 loss:  1200500.1299065659\n",
      "Epoch:  54 w:  444.8952917505392 b:  27.983067639995124 loss:  1151929.0381481408\n",
      "Epoch:  55 w:  447.02680061893193 b:  28.11663992341429 loss:  1107250.1691871332\n",
      "Epoch:  56 w:  449.07112429744126 b:  28.244721365318643 loss:  1066151.6214552824\n",
      "Epoch:  57 w:  451.03182899532766 b:  28.36753656327739 loss:  1028346.4874798236\n",
      "Epoch:  58 w:  452.91233505018766 b:  28.48530092795597 loss:  993570.8509925962\n",
      "Epoch:  59 w:  454.7159228946655 b:  28.59822105889572 loss:  961581.9445399427\n",
      "Epoch:  60 w:  456.4457387791031 b:  28.706495104922723 loss:  932156.4547317205\n",
      "Epoch:  61 w:  458.10480026011237 b:  28.810313109814523 loss:  905088.9632984516\n",
      "Epoch:  62 w:  459.69600146464273 b:  28.90985734382777 loss:  880190.5130736661\n",
      "Epoch:  63 w:  461.2221181387292 b:  29.0053026216651 loss:  857287.2888906313\n",
      "Epoch:  64 w:  462.6858124897264 b:  29.096816607435937 loss:  836219.4041848298\n",
      "Epoch:  65 w:  464.0896378304772 b:  29.18456010714324 loss:  816839.784831531\n",
      "Epoch:  66 w:  465.4360430335165 b:  29.268687349206424 loss:  799013.142426543\n",
      "Epoch:  67 w:  466.7273768030813 b:  29.349346253509786 loss:  782615.0298426569\n",
      "Epoch:  68 w:  467.965891772379 b:  29.426678689445847 loss:  767530.9724686728\n",
      "Epoch:  69 w:  469.1537484332618 b:  29.500820723403724 loss:  753655.6690661943\n",
      "Epoch:  70 w:  470.29301890516217 b:  29.571902856134255 loss:  740892.2566654212\n",
      "Epoch:  71 w:  471.3856905498645 b:  29.640050250406006 loss:  729151.6343681929\n",
      "Epoch:  72 w:  472.43366943841846 b:  29.705382949349257 loss:  718351.8413377777\n",
      "Epoch:  73 w:  473.43878367624274 b:  29.768016085868886 loss:  708417.4846331808\n",
      "Epoch:  74 w:  474.4027865922188 b:  29.828060083491447 loss:  699279.2128936973\n",
      "Epoch:  75 w:  475.32735979733854 b:  29.885620848996858 loss:  690873.2321995208\n",
      "Epoch:  76 w:  476.2141161182419 b:  29.940799957170682 loss:  683140.8607286551\n",
      "Epoch:  77 w:  477.0646024107609 b:  29.993694827999356 loss:  676028.119101195\n",
      "Epoch:  78 w:  477.88030225837934 b:  30.044398896617437 loss:  669485.3535511895\n",
      "Epoch:  79 w:  478.662638560315 b:  30.093001776303357 loss:  663466.8892954647\n",
      "Epoch:  80 w:  479.4129760137393 b:  30.13958941480803 loss:  657930.7116795805\n",
      "Epoch:  81 w:  480.1326234944648 b:  30.184244244289008 loss:  652838.17287502\n",
      "Epoch:  82 w:  480.82283634025305 b:  30.22704532511177 loss:  648153.722080069\n",
      "Epoch:  83 w:  481.4848185407269 b:  30.268068483768968 loss:  643844.6573409297\n",
      "Epoch:  84 w:  482.11972483770654 b:  30.307386445158258 loss:  639880.8972605425\n",
      "Epoch:  85 w:  482.728662739634 b:  30.34506895944945 loss:  636234.7710014186\n",
      "Epoch:  86 w:  483.31269445359965 b:  30.381182923762314 loss:  632880.825116507\n",
      "Epoch:  87 w:  483.87283873834184 b:  30.41579249886729 loss:  629795.6458595811\n",
      "Epoch:  88 w:  484.4100726814513 b:  30.44895922111269 loss:  626957.6957347097\n",
      "Epoch:  89 w:  484.92533340388127 b:  30.480742109773654 loss:  624347.163143759\n",
      "Epoch:  90 w:  485.41951969473655 b:  30.511197770010103 loss:  621945.8240823305\n",
      "Epoch:  91 w:  485.89349357919343 b:  30.540380491613348 loss:  619736.9149186331\n",
      "Epoch:  92 w:  486.34808182228574 b:  30.56834234371355 loss:  617705.0153671616\n",
      "Epoch:  93 w:  486.78407737117993 b:  30.595133265613295 loss:  615835.9408402346\n",
      "Epoch:  94 w:  487.2022407384561 b:  30.62080115390574 loss:  614116.6434258877\n",
      "Epoch:  95 w:  487.6033013288071 b:  30.64539194602927 loss:  612535.1208008648\n",
      "Epoch:  96 w:  487.98795871147064 b:  30.668949700404454 loss:  611080.3324428238\n",
      "Epoch:  97 w:  488.35688384061416 b:  30.6915166732931 loss:  609742.1225568423\n",
      "Epoch:  98 w:  488.710720225801 b:  30.713133392513473 loss:  608511.1491781751\n",
      "Epoch:  99 w:  489.0500850545805 b:  30.733838728140277 loss:  607378.8189563265\n",
      "Epoch:  100 w:  489.37557026915914 b:  30.753669960312745 loss:  606337.2271651784\n",
      "Epoch:  101 w:  489.68774359903233 b:  30.7726628442691 loss:  605379.1025203754\n",
      "Epoch:  102 w:  489.9871495513773 b:  30.790851672720866 loss:  604497.7564187485\n",
      "Epoch:  103 w:  490.27431036093515 b:  30.808269335675845 loss:  603687.0362454122\n",
      "Epoch:  104 w:  490.54972690103904 b:  30.824947377814073 loss:  602941.2824225784\n",
      "Epoch:  105 w:  490.81387955737796 b:  30.840916053516906 loss:  602255.2889002456\n",
      "Epoch:  106 w:  491.06722906602005 b:  30.85620437964519 loss:  601624.2668129473\n",
      "Epoch:  107 w:  491.31021731715754 b:  30.870840186158617 loss:  601043.811048854\n",
      "Epoch:  108 w:  491.54326812597566 b:  30.884850164664517 loss:  600509.8694978408\n",
      "Epoch:  109 w:  491.7667879719898 b:  30.898259914980876 loss:  600018.7147638517\n",
      "Epoch:  110 w:  491.98116670814096 b:  30.911093989794693 loss:  599566.9181440823\n",
      "Epoch:  111 w:  492.1867782408867 b:  30.923375937493677 loss:  599151.3256933237\n",
      "Epoch:  112 w:  492.3839811824735 b:  30.93512834324594 loss:  598769.0362063836\n",
      "Epoch:  113 w:  492.5731194765288 b:  30.946372868399372 loss:  598417.3809648781\n",
      "Epoch:  114 w:  492.7545229980638 b:  30.95713028826946 loss:  598093.905107\n",
      "Epoch:  115 w:  492.928508128934 b:  30.9674205283814 loss:  597796.3504902185\n",
      "Epoch:  116 w:  493.0953783097613 b:  30.977262699229787 loss:  597522.6399272642\n",
      "Epoch:  117 w:  493.2554245692798 b:  30.98667512961651 loss:  597270.8626853597\n",
      "Epoch:  118 w:  493.4089260320301 b:  30.995675398624982 loss:  597039.2611474609\n",
      "Epoch:  119 w:  493.5561504052862 b:  31.004280366286498 loss:  596826.2185423956\n",
      "Epoch:  120 w:  493.69735444606596 b:  31.012506202992245 loss:  596630.2476582415\n",
      "Epoch:  121 w:  493.8327844090384 b:  31.020368417702226 loss:  596449.9804601523\n",
      "Epoch:  122 w:  493.96267647611023 b:  31.027881885000337 loss:  596284.1585401525\n",
      "Epoch:  123 w:  494.08725716844043 b:  31.03506087104278 loss:  596131.6243322408\n",
      "Epoch:  124 w:  494.2067437416021 b:  31.041919058445114 loss:  595991.3130314584\n",
      "Epoch:  125 w:  494.3213445645805 b:  31.04846957015129 loss:  595862.2451605268\n",
      "Epoch:  126 w:  494.43125948326855 b:  31.05472499232638 loss:  595743.5197321485\n",
      "Epoch:  127 w:  494.53668016909415 b:  31.060697396312897 loss:  595634.3079592489\n",
      "Epoch:  128 w:  494.63779045338725 b:  31.066398359689007 loss:  595533.8474692426\n",
      "Epoch:  129 w:  494.7347666480698 b:  31.0718389864654 loss:  595441.4369819373\n",
      "Epoch:  130 w:  494.82777785322867 b:  31.07702992645602 loss:  595356.4314139211\n",
      "Epoch:  131 w:  494.9169862521073 b:  31.08198139385644 loss:  595278.237375259\n",
      "Epoch:  132 w:  495.00254739403107 b:  31.08670318506235 loss:  595206.3090270587\n",
      "Epoch:  133 w:  495.08461046576036 b:  31.091204695759163 loss:  595140.144270988\n",
      "Epoch:  134 w:  495.1633185517436 b:  31.09549493731261 loss:  595079.2812441443\n",
      "Epoch:  135 w:  495.2388088837254 b:  31.099582552488886 loss:  595023.2950948068\n",
      "Epoch:  136 w:  495.3112130801447 b:  31.10347583053181 loss:  594971.7950165605\n",
      "Epoch:  137 w:  495.38065737574027 b:  31.107182721623214 loss:  594924.4215200922\n",
      "Epoch:  138 w:  495.44726284176517 b:  31.11071085075191 loss:  594880.8439236063\n",
      "Epoch:  139 w:  495.5111455971928 b:  31.114067531015323 loss:  594840.7580443487\n",
      "Epoch:  140 w:  495.57241701128436 b:  31.117259776377043 loss:  594803.8840751162\n",
      "Epoch:  141 w:  495.63118389787024 b:  31.12029431390256 loss:  594769.9646309343\n",
      "Epoch:  142 w:  495.6875487016846 b:  31.123177595494482 loss:  594738.7629522601\n",
      "Epoch:  143 w:  495.7416096770784 b:  31.125915809147777 loss:  594710.0612521722\n",
      "Epoch:  144 w:  495.79346105942193 b:  31.128514889744594 loss:  594683.6591960104\n",
      "Epoch:  145 w:  495.84319322949676 b:  31.130980529407545 loss:  594659.372502843\n",
      "Epoch:  146 w:  495.89089287116315 b:  31.133318187429524 loss:  594637.0316590107\n",
      "Epoch:  147 w:  495.9366431225783 b:  31.135533099797318 loss:  594616.4807347573\n",
      "Epoch:  148 w:  495.9805237212293 b:  31.137630288325692 loss:  594597.576295689\n",
      "Epoch:  149 w:  496.0226111430336 b:  31.139614569417848 loss:  594580.186401464\n",
      "Epoch:  150 w:  496.0629787357497 b:  31.141490562467546 loss:  594564.1896847223\n",
      "Epoch:  151 w:  496.1016968469309 b:  31.143262697917553 loss:  594549.4745038245\n",
      "Epoch:  152 w:  496.13883294664527 b:  31.144935224988455 loss:  594535.9381634839\n",
      "Epoch:  153 w:  496.1744517451757 b:  31.146512219091345 loss:  594523.4861978573\n",
      "Epoch:  154 w:  496.20861530590594 b:  31.1479975889373 loss:  594512.0317110788\n",
      "Epoch:  155 w:  496.24138315358874 b:  31.149395083356058 loss:  594501.494770645\n",
      "Epoch:  156 w:  496.2728123781858 b:  31.150708297835767 loss:  594491.8018494099\n",
      "Epoch:  157 w:  496.3029577344599 b:  31.151940680795253 loss:  594482.8853122907\n",
      "Epoch:  158 w:  496.3318717374936 b:  31.15309553959972 loss:  594474.6829441154\n",
      "Epoch:  159 w:  496.35960475430085 b:  31.154176046330388 loss:  594467.137515295\n",
      "Epoch:  160 w:  496.38620509169107 b:  31.155185243318115 loss:  594460.1963823098\n",
      "Epoch:  161 w:  496.41171908053957 b:  31.156126048450705 loss:  594453.811120205\n",
      "Epoch:  162 w:  496.43619115661085 b:  31.15700126026309 loss:  594447.9371845381\n",
      "Epoch:  163 w:  496.45966393807583 b:  31.157813562819328 loss:  594442.5336004165\n",
      "Epoch:  164 w:  496.48217829985845 b:  31.158565530394906 loss:  594437.5626764528\n",
      "Epoch:  165 w:  496.5037734449412 b:  31.159259631967508 loss:  594432.9897416421\n",
      "Epoch:  166 w:  496.52448697275395 b:  31.1598982355241 loss:  594428.782903325\n",
      "Epoch:  167 w:  496.5443549447653 b:  31.160483612191843 loss:  594424.912824547\n",
      "Epoch:  168 w:  496.5634119473913 b:  31.161017940200026 loss:  594421.3525192571\n",
      "Epoch:  169 w:  496.58169115233056 b:  31.16150330867995 loss:  594418.0771639196\n",
      "Epoch:  170 w:  496.5992243744319 b:  31.161941721309383 loss:  594415.0639242223\n",
      "Epoch:  171 w:  496.6160421271944 b:  31.16233509980792 loss:  594412.2917956706\n",
      "Epoch:  172 w:  496.6321736759979 b:  31.162685287289406 loss:  594409.7414569564\n",
      "Epoch:  173 w:  496.64764708915556 b:  31.162994051477206 loss:  594407.3951350742\n",
      "Epoch:  174 w:  496.6624892868789 b:  31.163263087787964 loss:  594405.2364812526\n",
      "Epoch:  175 w:  496.6767260882391 b:  31.16349402228923 loss:  594403.2504568215\n",
      "Epoch:  176 w:  496.69038225620824 b:  31.163688414536093 loss:  594401.423228226\n",
      "Epoch:  177 w:  496.7034815408577 b:  31.16384776029182 loss:  594399.7420704605\n",
      "Epoch:  178 w:  496.71604672078956 b:  31.163973494137156 loss:  594398.1952782294\n",
      "Epoch:  179 w:  496.72809964287364 b:  31.164066991972955 loss:  594396.7720842363\n",
      "Epoch:  180 w:  496.73966126035873 b:  31.164129573420386 loss:  594395.4625840188\n",
      "Epoch:  181 w:  496.7507516694253 b:  31.164162504123006 loss:  594394.2576668024\n",
      "Epoch:  182 w:  496.76139014424285 b:  31.164166997954645 loss:  594393.1489519017\n",
      "Epoch:  183 w:  496.7715951705931 b:  31.16414421913699 loss:  594392.128730214\n",
      "Epoch:  184 w:  496.78138447811847 b:  31.164095284270545 loss:  594391.1899104009\n",
      "Epoch:  185 w:  496.7907750712507 b:  31.16402126428252 loss:  594390.3259693864\n",
      "Epoch:  186 w:  496.7997832588751 b:  31.16392318629505 loss:  594389.5309068182\n",
      "Epoch:  187 w:  496.8084246827807 b:  31.163802035416985 loss:  594388.7992031787\n",
      "Epoch:  188 w:  496.81671434494734 b:  31.163658756462397 loss:  594388.1257812557\n",
      "Epoch:  189 w:  496.8246666337163 b:  31.163494255598792 loss:  594387.5059706969\n",
      "Epoch:  190 w:  496.8322953488903 b:  31.1633094019279 loss:  594386.9354754059\n",
      "Epoch:  191 w:  496.8396137258071 b:  31.163105029001816 loss:  594386.4103435522\n",
      "Epoch:  192 w:  496.8466344584284 b:  31.162881936277103 loss:  594385.9269399851\n",
      "Epoch:  193 w:  496.853369721484 b:  31.16264089050944 loss:  594385.4819208524\n",
      "Epoch:  194 w:  496.85983119171044 b:  31.162382627091215 loss:  594385.0722102626\n",
      "Epoch:  195 w:  496.86603006822094 b:  31.162107851334397 loss:  594384.6949788075\n",
      "Epoch:  196 w:  496.8719770920419 b:  31.161817239700948 loss:  594384.3476238135\n",
      "Epoch:  197 w:  496.8776825648505 b:  31.161511440982892 loss:  594384.0277511704\n",
      "Epoch:  198 w:  496.8831563669456 b:  31.161191077434133 loss:  594383.7331586193\n",
      "Epoch:  199 w:  496.88840797448415 b:  31.16085674585595 loss:  594383.4618203788\n",
      "Epoch:  200 w:  496.89344647601155 b:  31.160509018638116 loss:  594383.2118730013\n",
      "Epoch:  201 w:  496.898280588317 b:  31.160148444757432 loss:  594382.9816023676\n",
      "Epoch:  202 w:  496.9029186716394 b:  31.15977555073539 loss:  594382.7694317166\n",
      "Epoch:  203 w:  496.90736874425176 b:  31.15939084155669 loss:  594382.5739106421\n",
      "Epoch:  204 w:  496.911638496449 b:  31.15899480155018 loss:  594382.3937049637\n",
      "Epoch:  205 w:  496.9157353039633 b:  31.15858789523375 loss:  594382.2275874176\n",
      "Epoch:  206 w:  496.9196662408312 b:  31.158170568124692 loss:  594382.0744290834\n"
     ]
    },
    {
     "data": {
      "text/plain": [
       "[<matplotlib.lines.Line2D at 0x1f20cbf0b90>]"
      ]
     },
     "execution_count": 36,
     "metadata": {},
     "output_type": "execute_result"
    },
    {
     "data": {
      "image/png": "[encoded data removed]",
      "text/plain": [
       "<Figure size 640x480 with 1 Axes>"
      ]
     },
     "metadata": {},
     "output_type": "display_data"
    }
   ],
   "source": [
    "for i in range(200):  #let's try 200 more\n",
    "    w, b = update_wb(dT, Qdot, w, b, alpha)\n",
    "    epoch += 1\n",
    "    print(\"Epoch: \", epoch, \"w: \", w, \"b: \", b, \"loss: \", loss(dT, Qdot, w, b))\n",
    "\n",
    "plt.plot(dT, Qdot, marker = 'o', ls='')\n",
    "plt.plot([0,25],[b,w*25+b])\n",
    "        "
   ]
  },
  {
   "cell_type": "markdown",
   "id": "3139e93f-1713-4de6-b6d1-f7804048841c",
   "metadata": {},
   "source": [
    "Looks good. "
   ]
  },
  {
   "cell_type": "markdown",
   "id": "b2448dfb-7c01-4c93-b23e-543c0db34b13",
   "metadata": {},
   "source": [
    "## Things to try\n",
    "\n",
    "- What happens if you go back and train with $\\alpha=0.1$ or $1\\times 10^{-5}$? Click [here](#training_cell) to return to the start of training. Change $\\alpha$ and re-run the training cells to experiment.\n",
    "- Change from gradient descent to Stochastic Gradient Descent; be careful to ensure the `epoch` integer corresponds to any $N$ samples being seen (even if the same sample is randomly chosen more than once within an epoch). (assessed)\n",
    "- Change from MSE to MAE and compare performance. Is a different learning rate needed? (assessed)\n",
    "- Prefer Matlab? Re-implement this linear regression code in matlab and play with it there."
   ]
  },
  {
   "cell_type": "markdown",
   "id": "e6834592-5610-4209-954e-fe4181e21a9e",
   "metadata": {},
   "source": [
    "## Linear regression with Scikit learn or Matlab\n",
    "\n",
    "It is important to note that the above is a pedagogical example. In practical applications, you would not be well advised to implement your own linear regression. For one, this is reinventing the wheel. But perhaps even more importantly, the computational performance of our simple model is unlikely to be very good (i.e. it may take a long time to run on large datasets). In matlab, you can use the `fitlm` function to return a linear regression model. In Python, you can use Scikit-learn's `linear_model.LinearRegression()` model."
   ]
  },
  {
   "cell_type": "markdown",
   "id": "3b9e8943-a9f1-4998-9792-ecea349a4643",
   "metadata": {},
   "source": [
    "#### Footnotes\n",
    "\n",
    "<a name=\"cite_note-1\"></a>1. [^](#cite_ref-1) Formally, the loss function is the loss evaluated on a single data point (i.e. without the sum, or dividing by $N$) and the above is actually the \"cost function\". However, loss and cost are often used interchangeably, so with a minor abuse of notation to adopt the common practice in the literature, we'll call this loss."
   ]
  }
 ],
 "metadata": {
  "kernelspec": {
   "display_name": ".venv",
   "language": "python",
   "name": "python3"
  },
  "language_info": {
   "codemirror_mode": {
    "name": "ipython",
    "version": 3
   },
   "file_extension": ".py",
   "mimetype": "text/x-python",
   "name": "python",
   "nbconvert_exporter": "python",
   "pygments_lexer": "ipython3",
   "version": "3.13.0"
  }
 },
 "nbformat": 4,
 "nbformat_minor": 5
}
